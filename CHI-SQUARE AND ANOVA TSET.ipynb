{
 "cells": [
  {
   "cell_type": "markdown",
   "id": "6fa373f5",
   "metadata": {},
   "source": [
    "# STATISTICAL TEST\n",
    "\n",
    "## Bivariate analysis of college placement report\n",
    "## Chi-square testing and Analysis of Variance were implemented on the dataset\n",
    "## Dataset was sourced from kaggle.com\n",
    "\n",
    "## By Chidiebere Afamefuna. "
   ]
  },
  {
   "cell_type": "markdown",
   "id": "bd0a10ed",
   "metadata": {},
   "source": [
    "## Chi-square Test"
   ]
  },
  {
   "cell_type": "code",
   "execution_count": 1,
   "id": "c45b2857",
   "metadata": {},
   "outputs": [],
   "source": [
    "#import libraries\n",
    "import scipy.stats as stats\n",
    "import seaborn as sns\n",
    "import pandas as pd \n",
    "import numpy as np"
   ]
  },
  {
   "cell_type": "code",
   "execution_count": 2,
   "id": "172ed859",
   "metadata": {},
   "outputs": [
    {
     "data": {
      "text/html": [
       "<div>\n",
       "<style scoped>\n",
       "    .dataframe tbody tr th:only-of-type {\n",
       "        vertical-align: middle;\n",
       "    }\n",
       "\n",
       "    .dataframe tbody tr th {\n",
       "        vertical-align: top;\n",
       "    }\n",
       "\n",
       "    .dataframe thead th {\n",
       "        text-align: right;\n",
       "    }\n",
       "</style>\n",
       "<table border=\"1\" class=\"dataframe\">\n",
       "  <thead>\n",
       "    <tr style=\"text-align: right;\">\n",
       "      <th></th>\n",
       "      <th>Age</th>\n",
       "      <th>Gender</th>\n",
       "      <th>Stream</th>\n",
       "      <th>Internships</th>\n",
       "      <th>CGPA</th>\n",
       "      <th>Hostel</th>\n",
       "      <th>HistoryOfBacklogs</th>\n",
       "      <th>PlacedOrNot</th>\n",
       "    </tr>\n",
       "  </thead>\n",
       "  <tbody>\n",
       "    <tr>\n",
       "      <th>0</th>\n",
       "      <td>22</td>\n",
       "      <td>Male</td>\n",
       "      <td>Electronics And Communication</td>\n",
       "      <td>1</td>\n",
       "      <td>8</td>\n",
       "      <td>1</td>\n",
       "      <td>1</td>\n",
       "      <td>1</td>\n",
       "    </tr>\n",
       "    <tr>\n",
       "      <th>1</th>\n",
       "      <td>21</td>\n",
       "      <td>Female</td>\n",
       "      <td>Computer Science</td>\n",
       "      <td>0</td>\n",
       "      <td>7</td>\n",
       "      <td>1</td>\n",
       "      <td>1</td>\n",
       "      <td>1</td>\n",
       "    </tr>\n",
       "    <tr>\n",
       "      <th>2</th>\n",
       "      <td>22</td>\n",
       "      <td>Female</td>\n",
       "      <td>Information Technology</td>\n",
       "      <td>1</td>\n",
       "      <td>6</td>\n",
       "      <td>0</td>\n",
       "      <td>0</td>\n",
       "      <td>1</td>\n",
       "    </tr>\n",
       "    <tr>\n",
       "      <th>3</th>\n",
       "      <td>21</td>\n",
       "      <td>Male</td>\n",
       "      <td>Information Technology</td>\n",
       "      <td>0</td>\n",
       "      <td>8</td>\n",
       "      <td>0</td>\n",
       "      <td>1</td>\n",
       "      <td>1</td>\n",
       "    </tr>\n",
       "    <tr>\n",
       "      <th>4</th>\n",
       "      <td>22</td>\n",
       "      <td>Male</td>\n",
       "      <td>Mechanical</td>\n",
       "      <td>0</td>\n",
       "      <td>8</td>\n",
       "      <td>1</td>\n",
       "      <td>0</td>\n",
       "      <td>1</td>\n",
       "    </tr>\n",
       "  </tbody>\n",
       "</table>\n",
       "</div>"
      ],
      "text/plain": [
       "   Age  Gender                         Stream  Internships  CGPA  Hostel  \\\n",
       "0   22    Male  Electronics And Communication            1     8       1   \n",
       "1   21  Female               Computer Science            0     7       1   \n",
       "2   22  Female         Information Technology            1     6       0   \n",
       "3   21    Male         Information Technology            0     8       0   \n",
       "4   22    Male                     Mechanical            0     8       1   \n",
       "\n",
       "   HistoryOfBacklogs  PlacedOrNot  \n",
       "0                  1            1  \n",
       "1                  1            1  \n",
       "2                  0            1  \n",
       "3                  1            1  \n",
       "4                  0            1  "
      ]
     },
     "execution_count": 2,
     "metadata": {},
     "output_type": "execute_result"
    }
   ],
   "source": [
    "# loading of dataset\n",
    "\n",
    "data = pd.read_csv('C:\\\\Users\\\\USER\\Desktop\\\\classification\\\\collegePlace.csv')\n",
    "data.head()"
   ]
  },
  {
   "cell_type": "code",
   "execution_count": 4,
   "id": "aeaeb882",
   "metadata": {},
   "outputs": [
    {
     "name": "stdout",
     "output_type": "stream",
     "text": [
      "PlacedOrNot     0     1\n",
      "Gender                 \n",
      "Female        216   275\n",
      "Male         1111  1364\n"
     ]
    }
   ],
   "source": [
    "# table for Gender and PlaceOrNot\n",
    "table = pd.crosstab(data['Gender'], data['PlacedOrNot'])\n",
    "print(table)"
   ]
  },
  {
   "cell_type": "code",
   "execution_count": 6,
   "id": "581ba5a4",
   "metadata": {},
   "outputs": [
    {
     "name": "stdout",
     "output_type": "stream",
     "text": [
      "observed values:\n",
      " [[ 216  275]\n",
      " [1111 1364]]\n"
     ]
    }
   ],
   "source": [
    "# observed values\n",
    "\n",
    "observed_values = table.values\n",
    "print('observed values:\\n {}'.format(observed_values))"
   ]
  },
  {
   "cell_type": "code",
   "execution_count": 7,
   "id": "9d098568",
   "metadata": {},
   "outputs": [
    {
     "data": {
      "text/plain": [
       "(0.0995364040812469,\n",
       " 0.7523866780714197,\n",
       " 1,\n",
       " array([[ 219.6753203,  271.3246797],\n",
       "        [1107.3246797, 1367.6753203]]))"
      ]
     },
     "execution_count": 7,
     "metadata": {},
     "output_type": "execute_result"
    }
   ],
   "source": [
    "value = stats.chi2_contingency(table)\n",
    "value"
   ]
  },
  {
   "cell_type": "code",
   "execution_count": 8,
   "id": "91b5e5cd",
   "metadata": {},
   "outputs": [],
   "source": [
    "expected_values = value[3]"
   ]
  },
  {
   "cell_type": "code",
   "execution_count": 9,
   "id": "dfc823d3",
   "metadata": {},
   "outputs": [
    {
     "data": {
      "text/plain": [
       "array([[ 219.6753203,  271.3246797],\n",
       "       [1107.3246797, 1367.6753203]])"
      ]
     },
     "execution_count": 9,
     "metadata": {},
     "output_type": "execute_result"
    }
   ],
   "source": [
    "expected_values"
   ]
  },
  {
   "cell_type": "code",
   "execution_count": 12,
   "id": "fef3b4ce",
   "metadata": {},
   "outputs": [
    {
     "name": "stdout",
     "output_type": "stream",
     "text": [
      "Degree of Freedom: 1\n"
     ]
    }
   ],
   "source": [
    "# to determine the degree of freedom\n",
    "\n",
    "rows = len(table.iloc[0:2,])\n",
    "columns = len(table.iloc[0,0:2])\n",
    "\n",
    "DOF = (rows-1) * (columns-1)\n",
    "print('Degree of Freedom: {}'.format(DOF))"
   ]
  },
  {
   "cell_type": "code",
   "execution_count": 13,
   "id": "57146e33",
   "metadata": {},
   "outputs": [
    {
     "name": "stdout",
     "output_type": "stream",
     "text": [
      "chi-square statistics: 0.13335130009354274\n"
     ]
    }
   ],
   "source": [
    "from scipy.stats import chi2\n",
    "\n",
    "chi_square = sum([(o-e)**2/e for o,e in zip(observed_values, expected_values)])\n",
    "chi_square_stat = chi_square[0] + chi_square[1]\n",
    "\n",
    "print('chi-square statistics: {}'.format(chi_square_stat))"
   ]
  },
  {
   "cell_type": "code",
   "execution_count": 14,
   "id": "2b8f0571",
   "metadata": {},
   "outputs": [
    {
     "name": "stdout",
     "output_type": "stream",
     "text": [
      "critical_value: 3.841458820694124\n"
     ]
    }
   ],
   "source": [
    "# critical value\n",
    "\n",
    "alpha = 0.05\n",
    "critical_value = chi2.ppf(q=1-alpha, df =DOF)\n",
    "print('critical_value: {}'.format(critical_value))"
   ]
  },
  {
   "cell_type": "code",
   "execution_count": 15,
   "id": "da130975",
   "metadata": {},
   "outputs": [],
   "source": [
    "# p value\n",
    "\n",
    "p_value = 1 - chi2.cdf(x=chi_square_stat, df=DOF)\n"
   ]
  },
  {
   "cell_type": "code",
   "execution_count": 16,
   "id": "cb96e156",
   "metadata": {},
   "outputs": [
    {
     "name": "stdout",
     "output_type": "stream",
     "text": [
      "p-value: 0.7149822918027116\n",
      "Significance level: 0.05\n",
      "Degree of Freedom: 1\n"
     ]
    }
   ],
   "source": [
    "print('p-value: {}'.format(p_value))\n",
    "print('Significance level: {}'.format(alpha))\n",
    "print('Degree of Freedom: {}'.format(DOF))\n"
   ]
  },
  {
   "cell_type": "code",
   "execution_count": 18,
   "id": "c0af7957",
   "metadata": {},
   "outputs": [
    {
     "name": "stdout",
     "output_type": "stream",
     "text": [
      "Retain Null Hypothesis (H0)\n",
      "Retain Null Hypothesis (H0)\n"
     ]
    }
   ],
   "source": [
    "# Result Statement\n",
    "\n",
    "if chi_square_stat >= critical_value:\n",
    "    print('Reject Null Hypothesis (H0)')\n",
    "else:\n",
    "    print('Retain Null Hypothesis (H0)')\n",
    "    \n",
    "if p_value <= alpha:\n",
    "    print('Reject Null Hypothesis (H0)')\n",
    "else:\n",
    "    print('Retain Null Hypothesis (H0)')"
   ]
  },
  {
   "cell_type": "markdown",
   "id": "1aa19305",
   "metadata": {},
   "source": [
    "### Conclusion\n",
    "\n",
    "### This means that theres no relationship between the 'Gender' variable and 'PlacedOrNot' variable.\n",
    "\n"
   ]
  },
  {
   "cell_type": "markdown",
   "id": "b1453e44",
   "metadata": {},
   "source": [
    "## ANOVA TEST"
   ]
  },
  {
   "cell_type": "code",
   "execution_count": 26,
   "id": "6def347d",
   "metadata": {},
   "outputs": [],
   "source": [
    "import pingouin as pg"
   ]
  },
  {
   "cell_type": "code",
   "execution_count": 28,
   "id": "cf69b1c4",
   "metadata": {},
   "outputs": [
    {
     "data": {
      "text/html": [
       "<div>\n",
       "<style scoped>\n",
       "    .dataframe tbody tr th:only-of-type {\n",
       "        vertical-align: middle;\n",
       "    }\n",
       "\n",
       "    .dataframe tbody tr th {\n",
       "        vertical-align: top;\n",
       "    }\n",
       "\n",
       "    .dataframe thead th {\n",
       "        text-align: right;\n",
       "    }\n",
       "</style>\n",
       "<table border=\"1\" class=\"dataframe\">\n",
       "  <thead>\n",
       "    <tr style=\"text-align: right;\">\n",
       "      <th></th>\n",
       "      <th>Source</th>\n",
       "      <th>SS</th>\n",
       "      <th>DF</th>\n",
       "      <th>MS</th>\n",
       "      <th>F</th>\n",
       "      <th>p-unc</th>\n",
       "      <th>np2</th>\n",
       "    </tr>\n",
       "  </thead>\n",
       "  <tbody>\n",
       "    <tr>\n",
       "      <th>0</th>\n",
       "      <td>PlacedOrNot</td>\n",
       "      <td>11.469527</td>\n",
       "      <td>1</td>\n",
       "      <td>11.469527</td>\n",
       "      <td>6.545894</td>\n",
       "      <td>0.010562</td>\n",
       "      <td>0.002204</td>\n",
       "    </tr>\n",
       "    <tr>\n",
       "      <th>1</th>\n",
       "      <td>Within</td>\n",
       "      <td>5193.435732</td>\n",
       "      <td>2964</td>\n",
       "      <td>1.752171</td>\n",
       "      <td>NaN</td>\n",
       "      <td>NaN</td>\n",
       "      <td>NaN</td>\n",
       "    </tr>\n",
       "  </tbody>\n",
       "</table>\n",
       "</div>"
      ],
      "text/plain": [
       "        Source           SS    DF         MS         F     p-unc       np2\n",
       "0  PlacedOrNot    11.469527     1  11.469527  6.545894  0.010562  0.002204\n",
       "1       Within  5193.435732  2964   1.752171       NaN       NaN       NaN"
      ]
     },
     "execution_count": 28,
     "metadata": {},
     "output_type": "execute_result"
    }
   ],
   "source": [
    "AoV = pg.anova(dv ='Age', between = 'PlacedOrNot', data =data, detailed=True)\n",
    "AoV"
   ]
  },
  {
   "cell_type": "markdown",
   "id": "b00b4862",
   "metadata": {},
   "source": [
    "### Conclusion\n",
    "\n",
    "### As p-value is less than the threshold value of 0.05, the Null hypothesis will be rejected.\n",
    "### This shows that there's arelationship between 'Age' and 'PlacedOrNot' variables."
   ]
  }
 ],
 "metadata": {
  "kernelspec": {
   "display_name": "Python 3 (ipykernel)",
   "language": "python",
   "name": "python3"
  },
  "language_info": {
   "codemirror_mode": {
    "name": "ipython",
    "version": 3
   },
   "file_extension": ".py",
   "mimetype": "text/x-python",
   "name": "python",
   "nbconvert_exporter": "python",
   "pygments_lexer": "ipython3",
   "version": "3.9.7"
  }
 },
 "nbformat": 4,
 "nbformat_minor": 5
}
